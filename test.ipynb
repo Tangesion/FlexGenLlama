{
 "cells": [
  {
   "cell_type": "code",
   "execution_count": 8,
   "metadata": {},
   "outputs": [
    {
     "name": "stdout",
     "output_type": "stream",
     "text": [
      "tensor([1.0000e+00, 8.6572e-01, 7.5000e-01, 6.4941e-01, 5.6250e-01, 4.8706e-01,\n",
      "        4.2163e-01, 3.6523e-01, 3.1616e-01, 2.7393e-01, 2.3718e-01, 2.0532e-01,\n",
      "        1.7786e-01, 1.5405e-01, 1.3330e-01, 1.1548e-01, 9.9976e-02, 8.6609e-02,\n",
      "        7.5012e-02, 6.4941e-02, 5.6244e-02, 4.8706e-02, 4.2175e-02, 3.6530e-02,\n",
      "        3.1616e-02, 2.7390e-02, 2.3712e-02, 2.0538e-02, 1.7776e-02, 1.5396e-02,\n",
      "        1.3336e-02, 1.1551e-02, 1.0002e-02, 8.6594e-03, 7.4997e-03, 6.4926e-03,\n",
      "        5.6229e-03, 4.8714e-03, 4.2152e-03, 3.6526e-03, 3.1624e-03, 2.7390e-03,\n",
      "        2.3708e-03, 2.0542e-03, 1.7786e-03, 1.5402e-03, 1.3332e-03, 1.1549e-03,\n",
      "        1.0004e-03, 8.6594e-04, 7.5006e-04, 6.4945e-04, 5.6219e-04, 4.8685e-04,\n",
      "        4.2176e-04, 3.6526e-04, 3.1614e-04, 2.7394e-04, 2.3711e-04, 2.0540e-04,\n",
      "        1.7786e-04, 1.5402e-04, 1.3340e-04, 1.1545e-04])\n",
      "tensor([1.0000e+00, 8.6572e-01, 7.5000e-01, 6.4941e-01, 5.6250e-01, 4.8706e-01,\n",
      "        4.2163e-01, 3.6523e-01, 3.1616e-01, 2.7393e-01, 2.3718e-01, 2.0532e-01,\n",
      "        1.7786e-01, 1.5405e-01, 1.3330e-01, 1.1548e-01, 9.9976e-02, 8.6609e-02,\n",
      "        7.5012e-02, 6.4941e-02, 5.6244e-02, 4.8706e-02, 4.2175e-02, 3.6530e-02,\n",
      "        3.1616e-02, 2.7390e-02, 2.3712e-02, 2.0538e-02, 1.7776e-02, 1.5396e-02,\n",
      "        1.3336e-02, 1.1551e-02, 1.0002e-02, 8.6594e-03, 7.4997e-03, 6.4926e-03,\n",
      "        5.6229e-03, 4.8714e-03, 4.2152e-03, 3.6526e-03, 3.1624e-03, 2.7390e-03,\n",
      "        2.3708e-03, 2.0542e-03, 1.7786e-03, 1.5402e-03, 1.3332e-03, 1.1549e-03,\n",
      "        1.0004e-03, 8.6594e-04, 7.5006e-04, 6.4945e-04, 5.6219e-04, 4.8685e-04,\n",
      "        4.2176e-04, 3.6526e-04, 3.1614e-04, 2.7394e-04, 2.3711e-04, 2.0540e-04,\n",
      "        1.7786e-04, 1.5402e-04, 1.3340e-04, 1.1545e-04])\n",
      "tensor([1.0000e+00, 8.6596e-01, 7.4989e-01, 6.4938e-01, 5.6234e-01, 4.8697e-01,\n",
      "        4.2170e-01, 3.6517e-01, 3.1623e-01, 2.7384e-01, 2.3714e-01, 2.0535e-01,\n",
      "        1.7783e-01, 1.5399e-01, 1.3335e-01, 1.1548e-01, 1.0000e-01, 8.6596e-02,\n",
      "        7.4989e-02, 6.4938e-02, 5.6234e-02, 4.8697e-02, 4.2170e-02, 3.6517e-02,\n",
      "        3.1623e-02, 2.7384e-02, 2.3714e-02, 2.0535e-02, 1.7783e-02, 1.5399e-02,\n",
      "        1.3335e-02, 1.1548e-02, 1.0000e-02, 8.6596e-03, 7.4989e-03, 6.4938e-03,\n",
      "        5.6234e-03, 4.8697e-03, 4.2170e-03, 3.6517e-03, 3.1623e-03, 2.7384e-03,\n",
      "        2.3714e-03, 2.0535e-03, 1.7783e-03, 1.5399e-03, 1.3335e-03, 1.1548e-03,\n",
      "        1.0000e-03, 8.6596e-04, 7.4989e-04, 6.4938e-04, 5.6234e-04, 4.8697e-04,\n",
      "        4.2170e-04, 3.6517e-04, 3.1623e-04, 2.7384e-04, 2.3714e-04, 2.0535e-04,\n",
      "        1.7783e-04, 1.5399e-04, 1.3335e-04, 1.1548e-04])\n"
     ]
    }
   ],
   "source": [
    "import numpy as np\n",
    "import torch\n",
    "path = \"/home/tangexing/tgx/models/Llama-2-7b-hf-offload/Llama-2-7b-hf-np/layers.27.self_attn.rotary_emb.inv_freq\"\n",
    "path2 = \"/home/tangexing/tgx/models/Llama-2-7b-hf-offload/Llama-2-7b-hf-np/layers.28.self_attn.rotary_emb.inv_freq\"\n",
    "\n",
    "print(torch.from_numpy(np.load(path)))\n",
    "print(torch.from_numpy(np.load(path2)))\n",
    "inv_freq = 1.0 / (10000 ** (torch.arange(0, 128, 2, dtype=torch.int64).float() / 128))\n",
    "print(inv_freq)"
   ]
  },
  {
   "cell_type": "code",
   "execution_count": 13,
   "metadata": {},
   "outputs": [
    {
     "data": {
      "text/plain": [
       "tensor([0, 1, 2, 3, 4])"
      ]
     },
     "execution_count": 13,
     "metadata": {},
     "output_type": "execute_result"
    }
   ],
   "source": [
    "a = torch.tensor([0, 1, 2, 3, 4])\n",
    "b = torch.tensor([1, 2, 3])\n",
    "ls = [a, b]\n",
    "c, d = ls \n",
    "c "
   ]
  },
  {
   "cell_type": "code",
   "execution_count": null,
   "metadata": {},
   "outputs": [],
   "source": []
  },
  {
   "cell_type": "code",
   "execution_count": 11,
   "metadata": {},
   "outputs": [
    {
     "name": "stdout",
     "output_type": "stream",
     "text": [
      "torch.Size([11008, 4096])\n"
     ]
    }
   ],
   "source": [
    "path = \"/home/tangexing/tgx/models/Llama-2-7b-hf-offload/Llama-2-7b-hf-np/layers.27.mlp.up_proj.weight\"\n",
    "print(torch.from_numpy(np.load(path)).shape)"
   ]
  }
 ],
 "metadata": {
  "kernelspec": {
   "display_name": "pytorch",
   "language": "python",
   "name": "python3"
  },
  "language_info": {
   "codemirror_mode": {
    "name": "ipython",
    "version": 3
   },
   "file_extension": ".py",
   "mimetype": "text/x-python",
   "name": "python",
   "nbconvert_exporter": "python",
   "pygments_lexer": "ipython3",
   "version": "3.10.14"
  }
 },
 "nbformat": 4,
 "nbformat_minor": 2
}
